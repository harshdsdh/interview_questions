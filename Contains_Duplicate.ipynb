{
  "nbformat": 4,
  "nbformat_minor": 0,
  "metadata": {
    "colab": {
      "name": "Contains Duplicate.ipynb",
      "provenance": [],
      "authorship_tag": "ABX9TyOfoMPh/nh2obZMD1cxS+ae",
      "include_colab_link": true
    },
    "kernelspec": {
      "name": "python3",
      "display_name": "Python 3"
    }
  },
  "cells": [
    {
      "cell_type": "markdown",
      "metadata": {
        "id": "view-in-github",
        "colab_type": "text"
      },
      "source": [
        "<a href=\"https://colab.research.google.com/github/harshdsdh/interview_questions/blob/main/Contains_Duplicate.ipynb\" target=\"_parent\"><img src=\"https://colab.research.google.com/assets/colab-badge.svg\" alt=\"Open In Colab\"/></a>"
      ]
    },
    {
      "cell_type": "markdown",
      "metadata": {
        "id": "cstib0xREPE1"
      },
      "source": [
        "problem statement"
      ]
    },
    {
      "cell_type": "markdown",
      "metadata": {
        "id": "tWb6lHwJTFlt"
      },
      "source": [
        "Contains Duplicate\n",
        "\n",
        "Given an array of integers, find if the array contains any duplicates."
      ]
    },
    {
      "cell_type": "markdown",
      "metadata": {
        "id": "iqprkNwQET75"
      },
      "source": [
        "*analysis* in words\n",
        "answer description\n",
        "\n",
        "bruteforce - iterate through array and insert values into a hashmap. if a key already exists then return True else return False. time-O(n), space-O(n)\n",
        "\n",
        "method - convert array into set and check length or array and set. time  - O(n), space-O(n)"
      ]
    },
    {
      "cell_type": "markdown",
      "metadata": {
        "id": "2LXHQmipEfHL"
      },
      "source": [
        "pseudocode"
      ]
    },
    {
      "cell_type": "code",
      "metadata": {
        "id": "KAL4B_JYEh-Q"
      },
      "source": [
        "#pseudocode\n",
        "'''\n",
        "def array(nums):\n",
        "  return True if len(nums)!=len(set(nums)) else False\n",
        "'''\n"
      ],
      "execution_count": null,
      "outputs": []
    },
    {
      "cell_type": "markdown",
      "metadata": {
        "id": "2zcneaSnElyU"
      },
      "source": [
        "algorithm"
      ]
    },
    {
      "cell_type": "code",
      "metadata": {
        "id": "Ewli3-0aEnPj",
        "outputId": "6db7d56f-c7dd-499b-d6fc-13fdd688a8f8",
        "colab": {
          "base_uri": "https://localhost:8080/"
        }
      },
      "source": [
        "#answer\n",
        "def fn(nums):\n",
        "  return True if len(nums)!=len(set(nums)) else False\n",
        "fn([1,2,3,4,5,6])"
      ],
      "execution_count": 32,
      "outputs": [
        {
          "output_type": "execute_result",
          "data": {
            "text/plain": [
              "False"
            ]
          },
          "metadata": {
            "tags": []
          },
          "execution_count": 32
        }
      ]
    },
    {
      "cell_type": "code",
      "metadata": {
        "id": "zAARDtIwUpBb",
        "outputId": "441489d1-c16b-450e-c3d4-6e8f58a3f2ed",
        "colab": {
          "base_uri": "https://localhost:8080/"
        }
      },
      "source": [
        "#bruteforce method\n",
        "def fn(nums):\n",
        "  m={}\n",
        "  for i,x in enumerate(nums):\n",
        "    if x not in m:\n",
        "      m[x]=1\n",
        "    else:\n",
        "      return True\n",
        "  return False\n",
        "fn([1,2,3,4,5,6,1])"
      ],
      "execution_count": 34,
      "outputs": [
        {
          "output_type": "execute_result",
          "data": {
            "text/plain": [
              "True"
            ]
          },
          "metadata": {
            "tags": []
          },
          "execution_count": 34
        }
      ]
    }
  ]
}