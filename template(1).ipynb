{
  "nbformat": 4,
  "nbformat_minor": 0,
  "metadata": {
    "colab": {
      "name": "template.ipynb",
      "provenance": []
    },
    "kernelspec": {
      "name": "python3",
      "display_name": "Python 3"
    }
  },
  "cells": [
    {
      "cell_type": "markdown",
      "metadata": {
        "id": "cstib0xREPE1"
      },
      "source": [
        "problem statement"
      ]
    },
    {
      "cell_type": "markdown",
      "metadata": {
        "id": "tWb6lHwJTFlt"
      },
      "source": [
        "Given a sorted array nums, remove the duplicates in-place such that each element appears only once and returns the new length.\n",
        "Do not allocate extra space for another array, you must do this by modifying the input array in-place with O(1) extra memory.\n",
        "\n",
        "\n",
        "```\n",
        "# This is formatted as code\n",
        "```\n",
        "\n"
      ]
    },
    {
      "cell_type": "markdown",
      "metadata": {
        "id": "iqprkNwQET75"
      },
      "source": [
        "*analysis* in words\n",
        "# answer description\n",
        "bruteforce -  convert list to set and back to  list. this will make sure that \n",
        "new list only has unique values. time complexity-O(n), space complexity - O(n)\n",
        "\n",
        "method - two pointer approach. start with 0th index and use one pointer to iterate through array. increment another pointer when first pointer sees a unique value. Time complexity - O(n), space- O(1)"
      ]
    },
    {
      "cell_type": "markdown",
      "metadata": {
        "id": "2LXHQmipEfHL"
      },
      "source": [
        "pseudocode"
      ]
    },
    {
      "cell_type": "code",
      "metadata": {
        "id": "KAL4B_JYEh-Q"
      },
      "source": [
        "#pseudocode\n",
        "'''\n",
        "def function(array):\n",
        "  first=0\n",
        "  second=0\n",
        "  while first<len(array):\n",
        "    if array[first]!=array[second]:\n",
        "      second+=1\n",
        "      array[second] = array[first]\n",
        "    first+=1\n",
        "'''\n"
      ],
      "execution_count": null,
      "outputs": []
    },
    {
      "cell_type": "markdown",
      "metadata": {
        "id": "2zcneaSnElyU"
      },
      "source": [
        "algorithm"
      ]
    },
    {
      "cell_type": "code",
      "metadata": {
        "id": "Ewli3-0aEnPj",
        "outputId": "9e99b285-9623-4c2c-d0ad-c7a49bc75f55",
        "colab": {
          "base_uri": "https://localhost:8080/"
        }
      },
      "source": [
        "#answer\n",
        "def removeDuplicates(nums):\n",
        "  fast=0\n",
        "  slow=0\n",
        "  while fast<len(nums):\n",
        "    if nums[fast]!=nums[slow]:\n",
        "      slow+=1\n",
        "      nums[slow] = nums[fast]\n",
        "    fast+=1\n",
        "  print(nums)\n",
        "  return slow\n",
        "removeDuplicates([1,1,2])"
      ],
      "execution_count": 7,
      "outputs": [
        {
          "output_type": "stream",
          "text": [
            "[1, 2, 2]\n"
          ],
          "name": "stdout"
        },
        {
          "output_type": "execute_result",
          "data": {
            "text/plain": [
              "1"
            ]
          },
          "metadata": {
            "tags": []
          },
          "execution_count": 7
        }
      ]
    },
    {
      "cell_type": "code",
      "metadata": {
        "id": "zAARDtIwUpBb",
        "outputId": "3498d12c-4d5e-4351-8a4e-56a5fbb7a54e",
        "colab": {
          "base_uri": "https://localhost:8080/"
        }
      },
      "source": [
        "#bruteforce method\n",
        "def removeDuplicates(nums):\n",
        "  s = set(nums)\n",
        "  return list(s)\n",
        "removeDuplicates([0,0,1,1,1,2,2,3,3,4])"
      ],
      "execution_count": 2,
      "outputs": [
        {
          "output_type": "execute_result",
          "data": {
            "text/plain": [
              "[0, 1, 2, 3, 4]"
            ]
          },
          "metadata": {
            "tags": []
          },
          "execution_count": 2
        }
      ]
    }
  ]
}