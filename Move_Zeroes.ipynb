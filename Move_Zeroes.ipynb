{
  "nbformat": 4,
  "nbformat_minor": 0,
  "metadata": {
    "colab": {
      "name": "Move Zeroes.ipynb",
      "provenance": [],
      "authorship_tag": "ABX9TyPqFf3+JMVpeTKw4BizwK9G",
      "include_colab_link": true
    },
    "kernelspec": {
      "name": "python3",
      "display_name": "Python 3"
    }
  },
  "cells": [
    {
      "cell_type": "markdown",
      "metadata": {
        "id": "view-in-github",
        "colab_type": "text"
      },
      "source": [
        "<a href=\"https://colab.research.google.com/github/harshdsdh/interview_questions/blob/main/Move_Zeroes.ipynb\" target=\"_parent\"><img src=\"https://colab.research.google.com/assets/colab-badge.svg\" alt=\"Open In Colab\"/></a>"
      ]
    },
    {
      "cell_type": "markdown",
      "metadata": {
        "id": "cstib0xREPE1"
      },
      "source": [
        "problem statement"
      ]
    },
    {
      "cell_type": "markdown",
      "metadata": {
        "id": "tWb6lHwJTFlt"
      },
      "source": [
        "Move Zeroes\n",
        "\n",
        "Given an array nums, write a function to move all 0's to the end of it while maintaining the relative order of the non-zero elements."
      ]
    },
    {
      "cell_type": "markdown",
      "metadata": {
        "id": "iqprkNwQET75"
      },
      "source": [
        "*analysis* in words\n",
        "answer description\n",
        "\n",
        "bruteforce - traverse through an array and append unique values to a new array and add zeroes to make size of new array same as initial array. Time-O(n), space-O(n)\n",
        "\n",
        "method - 2 pointers approach. swap all non zero values to the front."
      ]
    },
    {
      "cell_type": "markdown",
      "metadata": {
        "id": "2LXHQmipEfHL"
      },
      "source": [
        "pseudocode"
      ]
    },
    {
      "cell_type": "code",
      "metadata": {
        "id": "KAL4B_JYEh-Q"
      },
      "source": [
        "#pseudocode\n",
        "'''\n",
        "def array(nums):\n",
        "  1. traverse through array\n",
        "  2. swap non zero value to front\n",
        "  3. return array\n",
        "'''\n"
      ],
      "execution_count": null,
      "outputs": []
    },
    {
      "cell_type": "markdown",
      "metadata": {
        "id": "2zcneaSnElyU"
      },
      "source": [
        "algorithm"
      ]
    },
    {
      "cell_type": "code",
      "metadata": {
        "id": "Ewli3-0aEnPj",
        "outputId": "a2ce18aa-794e-4da1-cc4d-ec8aa67cb56b",
        "colab": {
          "base_uri": "https://localhost:8080/"
        }
      },
      "source": [
        "#answer\n",
        "def fn(nums):\n",
        "  p=0\n",
        "  q=0\n",
        "  while p<len(nums):\n",
        "    if nums[p]!=0:\n",
        "      nums[p], nums[q] =  nums[q], nums[p]\n",
        "      q+=1\n",
        "    p+=1\n",
        "  return nums\n",
        "fn([0,1,0,3,12])"
      ],
      "execution_count": 4,
      "outputs": [
        {
          "output_type": "execute_result",
          "data": {
            "text/plain": [
              "[1, 3, 12, 0, 0]"
            ]
          },
          "metadata": {
            "tags": []
          },
          "execution_count": 4
        }
      ]
    },
    {
      "cell_type": "code",
      "metadata": {
        "id": "zAARDtIwUpBb",
        "outputId": "4a82b7e8-73a4-4d35-92ef-e0840e8ec692",
        "colab": {
          "base_uri": "https://localhost:8080/"
        }
      },
      "source": [
        "#bruteforce method\n",
        "def fn(nums):\n",
        "  arr=[]\n",
        "  n = len(nums)\n",
        "  for i in nums:\n",
        "    if i!=0:\n",
        "      arr.append(i)\n",
        "  diff = n-len(arr)\n",
        "  i=diff\n",
        "  print(i)\n",
        "  while i>0:\n",
        "    arr.append(0)\n",
        "    i-=1\n",
        "  return arr\n",
        "fn([0,1,0,3,12])"
      ],
      "execution_count": 7,
      "outputs": [
        {
          "output_type": "stream",
          "text": [
            "2\n"
          ],
          "name": "stdout"
        },
        {
          "output_type": "execute_result",
          "data": {
            "text/plain": [
              "[1, 3, 12, 0, 0]"
            ]
          },
          "metadata": {
            "tags": []
          },
          "execution_count": 7
        }
      ]
    }
  ]
}