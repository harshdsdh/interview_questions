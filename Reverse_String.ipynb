{
  "nbformat": 4,
  "nbformat_minor": 0,
  "metadata": {
    "colab": {
      "name": "Reverse String.ipynb",
      "provenance": [],
      "authorship_tag": "ABX9TyMruH4IKSy3glPiB2L9g7PB",
      "include_colab_link": true
    },
    "kernelspec": {
      "name": "python3",
      "display_name": "Python 3"
    }
  },
  "cells": [
    {
      "cell_type": "markdown",
      "metadata": {
        "id": "view-in-github",
        "colab_type": "text"
      },
      "source": [
        "<a href=\"https://colab.research.google.com/github/harshdsdh/interview_questions/blob/main/Reverse_String.ipynb\" target=\"_parent\"><img src=\"https://colab.research.google.com/assets/colab-badge.svg\" alt=\"Open In Colab\"/></a>"
      ]
    },
    {
      "cell_type": "markdown",
      "metadata": {
        "id": "cstib0xREPE1"
      },
      "source": [
        "problem statement"
      ]
    },
    {
      "cell_type": "markdown",
      "metadata": {
        "id": "tWb6lHwJTFlt"
      },
      "source": [
        "Reverse String\n",
        "\n",
        "Write a function that reverses a string. The input string is given as an array of characters char[].\n",
        "\n",
        "Do not allocate extra space for another array, you must do this by modifying the input array in-place with O(1) extra memory.\n",
        " "
      ]
    },
    {
      "cell_type": "markdown",
      "metadata": {
        "id": "iqprkNwQET75"
      },
      "source": [
        "*analysis* in words\n",
        "answer description\n",
        "\n",
        "bruteforce - two pointer approach. start with first and last index and keep swapping values until first<last.T=O(n) and s -O(1)"
      ]
    },
    {
      "cell_type": "markdown",
      "metadata": {
        "id": "2LXHQmipEfHL"
      },
      "source": [
        "pseudocode"
      ]
    },
    {
      "cell_type": "code",
      "metadata": {
        "id": "KAL4B_JYEh-Q"
      },
      "source": [
        "#pseudocode\n",
        "'''\n",
        "def array(nums):\n",
        "  first=0\n",
        "  last = len(nums)-1\n",
        "  while firs<last:\n",
        "    swap(first, last)\n",
        "    first+=1\n",
        "    last-=1\n",
        "  return nums\n",
        "'''\n"
      ],
      "execution_count": null,
      "outputs": []
    },
    {
      "cell_type": "markdown",
      "metadata": {
        "id": "2zcneaSnElyU"
      },
      "source": [
        "algorithm"
      ]
    },
    {
      "cell_type": "code",
      "metadata": {
        "id": "Ewli3-0aEnPj",
        "outputId": "95cef1cd-05fb-4933-9104-393e4ce1b18f",
        "colab": {
          "base_uri": "https://localhost:8080/"
        }
      },
      "source": [
        "#answer\n",
        "def fn(s):\n",
        "  first = 0\n",
        "  last = len(s)-1\n",
        "  while first<last:\n",
        "    s[first], s[last] = s[last], s[first]\n",
        "    first+=1\n",
        "    last-=1\n",
        "  return s\n",
        "s=[\"h\",\"e\",\"l\",\"l\",\"o\"]\n",
        "fn(s)"
      ],
      "execution_count": 1,
      "outputs": [
        {
          "output_type": "execute_result",
          "data": {
            "text/plain": [
              "['o', 'l', 'l', 'e', 'h']"
            ]
          },
          "metadata": {
            "tags": []
          },
          "execution_count": 1
        }
      ]
    },
    {
      "cell_type": "code",
      "metadata": {
        "id": "zAARDtIwUpBb",
        "outputId": "4a82b7e8-73a4-4d35-92ef-e0840e8ec692",
        "colab": {
          "base_uri": "https://localhost:8080/"
        }
      },
      "source": [
        "#bruteforce method\n",
        "def fn(nums):"
      ],
      "execution_count": null,
      "outputs": [
        {
          "output_type": "stream",
          "text": [
            "2\n"
          ],
          "name": "stdout"
        },
        {
          "output_type": "execute_result",
          "data": {
            "text/plain": [
              "[1, 3, 12, 0, 0]"
            ]
          },
          "metadata": {
            "tags": []
          },
          "execution_count": 7
        }
      ]
    }
  ]
}