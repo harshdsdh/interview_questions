{
  "nbformat": 4,
  "nbformat_minor": 0,
  "metadata": {
    "colab": {
      "name": "Best Time to Buy and Sell Stock II.ipynb",
      "provenance": [],
      "authorship_tag": "ABX9TyMa7DCRq0fOfTfUEi8Vfh+g",
      "include_colab_link": true
    },
    "kernelspec": {
      "name": "python3",
      "display_name": "Python 3"
    }
  },
  "cells": [
    {
      "cell_type": "markdown",
      "metadata": {
        "id": "view-in-github",
        "colab_type": "text"
      },
      "source": [
        "<a href=\"https://colab.research.google.com/github/harshdsdh/interview_questions/blob/main/Best_Time_to_Buy_and_Sell_Stock_II.ipynb\" target=\"_parent\"><img src=\"https://colab.research.google.com/assets/colab-badge.svg\" alt=\"Open In Colab\"/></a>"
      ]
    },
    {
      "cell_type": "markdown",
      "metadata": {
        "id": "cstib0xREPE1"
      },
      "source": [
        "problem statement"
      ]
    },
    {
      "cell_type": "markdown",
      "metadata": {
        "id": "tWb6lHwJTFlt"
      },
      "source": [
        "Best Time to Buy and Sell Stock II\n",
        "Say you have an array prices for which the ith element is the price of a given stock on day i.\n",
        "\n",
        "Design an algorithm to find the maximum profit. You may complete as many transactions as you like (i.e., buy one and sell one share of the stock multiple times)."
      ]
    },
    {
      "cell_type": "markdown",
      "metadata": {
        "id": "iqprkNwQET75"
      },
      "source": [
        "*analysis* in words\n",
        "answer description\n",
        "\n",
        "bruteforce - iterate through array and add every profit  \n",
        "\n",
        "method - iterate through array and find peak, valley and add it to profit"
      ]
    },
    {
      "cell_type": "markdown",
      "metadata": {
        "id": "2LXHQmipEfHL"
      },
      "source": [
        "pseudocode"
      ]
    },
    {
      "cell_type": "code",
      "metadata": {
        "id": "KAL4B_JYEh-Q"
      },
      "source": [
        "#pseudocode\n",
        "'''\n",
        "def function(array):\n",
        "  i=0\n",
        "  prf=0\n",
        "  while i<len(array)-1:\n",
        "    while i<len(array)-1 and array[i]>=array[i+1]:\n",
        "      i+=1\n",
        "    valley = array[i]\n",
        "    while i<len(array)-1 and array[i]<=array[i+1]:\n",
        "      i+=1\n",
        "    peak = array[i]\n",
        "    prf+= peak-valley\n",
        "  return prf\n",
        "'''\n"
      ],
      "execution_count": null,
      "outputs": []
    },
    {
      "cell_type": "markdown",
      "metadata": {
        "id": "2zcneaSnElyU"
      },
      "source": [
        "algorithm"
      ]
    },
    {
      "cell_type": "code",
      "metadata": {
        "id": "Ewli3-0aEnPj",
        "outputId": "f4210c29-6158-4331-f0f4-13b248f9c30c",
        "colab": {
          "base_uri": "https://localhost:8080/"
        }
      },
      "source": [
        "#answer\n",
        "def maxProfit(prices):\n",
        "  i=0\n",
        "  prf=0\n",
        "  while i<len(prices)-1:\n",
        "    peak=0\n",
        "    valley=0\n",
        "    while i<len(prices)-1 and prices[i]>=prices[i+1]:\n",
        "      i+=1\n",
        "    valley = prices[i]\n",
        "    while i<len(prices)-1 and prices[i]<=prices[i+1]:\n",
        "      i+=1\n",
        "    peak = prices[i]\n",
        "    prf+= peak-valley\n",
        "  return prf\n",
        "maxProfit([7,1,5,3,6,4])"
      ],
      "execution_count": 16,
      "outputs": [
        {
          "output_type": "execute_result",
          "data": {
            "text/plain": [
              "7"
            ]
          },
          "metadata": {
            "tags": []
          },
          "execution_count": 16
        }
      ]
    },
    {
      "cell_type": "code",
      "metadata": {
        "id": "zAARDtIwUpBb",
        "outputId": "bcf6d84a-cf3c-46da-a937-966f0911d0c9",
        "colab": {
          "base_uri": "https://localhost:8080/"
        }
      },
      "source": [
        "#bruteforce method\n",
        "def maxProfit(prices):\n",
        "  prf=0\n",
        "  i=1\n",
        "  while i<len(prices):\n",
        "    if prices[i]>prices[i-1]:\n",
        "      prf+=prices[i]-prices[i-1]\n",
        "    i+=1\n",
        "  return prf\n",
        "maxProfit([7,1,5,3,6,4])"
      ],
      "execution_count": 19,
      "outputs": [
        {
          "output_type": "execute_result",
          "data": {
            "text/plain": [
              "7"
            ]
          },
          "metadata": {
            "tags": []
          },
          "execution_count": 19
        }
      ]
    }
  ]
}