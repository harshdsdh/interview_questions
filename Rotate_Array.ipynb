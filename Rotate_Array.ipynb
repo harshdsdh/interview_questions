{
  "nbformat": 4,
  "nbformat_minor": 0,
  "metadata": {
    "colab": {
      "name": "Rotate Array.ipynb",
      "provenance": [],
      "authorship_tag": "ABX9TyPQRjtc0ifIZKwFZNl1sU4t",
      "include_colab_link": true
    },
    "kernelspec": {
      "name": "python3",
      "display_name": "Python 3"
    }
  },
  "cells": [
    {
      "cell_type": "markdown",
      "metadata": {
        "id": "view-in-github",
        "colab_type": "text"
      },
      "source": [
        "<a href=\"https://colab.research.google.com/github/harshdsdh/interview_questions/blob/main/Rotate_Array.ipynb\" target=\"_parent\"><img src=\"https://colab.research.google.com/assets/colab-badge.svg\" alt=\"Open In Colab\"/></a>"
      ]
    },
    {
      "cell_type": "markdown",
      "metadata": {
        "id": "cstib0xREPE1"
      },
      "source": [
        "problem statement"
      ]
    },
    {
      "cell_type": "markdown",
      "metadata": {
        "id": "tWb6lHwJTFlt"
      },
      "source": [
        "Rotate Array\n",
        "\n",
        "Given an array, rotate the array to the right by k steps, where k is non-negative."
      ]
    },
    {
      "cell_type": "markdown",
      "metadata": {
        "id": "iqprkNwQET75"
      },
      "source": [
        "*analysis* in words\n",
        "answer description\n",
        "\n",
        "bruteforce - iterate through array and pop last value and append it at 0th index . time complexity  - O(n^2), space complexity - O(1)\n",
        "\n",
        "method - reverse the complete array. then again reverse values from arr[:k] and arr[k:]. time complexity - O(n) and space complexity-O(1)"
      ]
    },
    {
      "cell_type": "markdown",
      "metadata": {
        "id": "2LXHQmipEfHL"
      },
      "source": [
        "pseudocode"
      ]
    },
    {
      "cell_type": "code",
      "metadata": {
        "id": "KAL4B_JYEh-Q"
      },
      "source": [
        "#pseudocode\n",
        "'''\n",
        "def swapValues(array, first, last):\n",
        "  first=first\n",
        "  last = last\n",
        "  while first<last:\n",
        "    array[first], array[last] = array[last], array[first]\n",
        "    first+=1\n",
        "    last-=1\n",
        "def function(array):\n",
        "  rev = swapValues(array,0, len(array)-1)\n",
        "  return swapValues(array, 0, K-1)+swapValues(array, K, len(array)-1)\n",
        "'''\n"
      ],
      "execution_count": null,
      "outputs": []
    },
    {
      "cell_type": "markdown",
      "metadata": {
        "id": "2zcneaSnElyU"
      },
      "source": [
        "algorithm"
      ]
    },
    {
      "cell_type": "code",
      "metadata": {
        "id": "Ewli3-0aEnPj",
        "outputId": "25579535-6182-436a-aaa6-9ef24445dd6a",
        "colab": {
          "base_uri": "https://localhost:8080/"
        }
      },
      "source": [
        "#answer\n",
        "def swapValues(arr, first, last):\n",
        "  start = first\n",
        "  end = last\n",
        "  while first<last:\n",
        "    arr[first], arr[last] =  arr[last], arr[first]\n",
        "    first+=1\n",
        "    last-=1\n",
        "  return arr[start:end+1]\n",
        "def rotate(nums,k):\n",
        "  reverse_nums = swapValues(nums,0 , len(nums)-1)\n",
        "  return swapValues(reverse_nums,0, k-1)+ swapValues(reverse_nums,k,len(reverse_nums)-1)\n",
        "rotate([1,2,3,4,5,6,7],3)"
      ],
      "execution_count": 30,
      "outputs": [
        {
          "output_type": "execute_result",
          "data": {
            "text/plain": [
              "[5, 6, 7, 1, 2, 3, 4]"
            ]
          },
          "metadata": {
            "tags": []
          },
          "execution_count": 30
        }
      ]
    },
    {
      "cell_type": "code",
      "metadata": {
        "id": "zAARDtIwUpBb",
        "outputId": "c1737a8b-87e7-4dc5-8152-d645c0e3fb54",
        "colab": {
          "base_uri": "https://localhost:8080/"
        }
      },
      "source": [
        "#bruteforce method\n",
        "def rotate(nums,k):\n",
        "  while k>0:\n",
        "    temp = nums.pop()\n",
        "    nums.insert(0, temp)\n",
        "    k-=1\n",
        "  return nums\n",
        "rotate([1,2,3,4,5,6,7],3)"
      ],
      "execution_count": 20,
      "outputs": [
        {
          "output_type": "execute_result",
          "data": {
            "text/plain": [
              "[5, 6, 7, 1, 2, 3, 4]"
            ]
          },
          "metadata": {
            "tags": []
          },
          "execution_count": 20
        }
      ]
    }
  ]
}